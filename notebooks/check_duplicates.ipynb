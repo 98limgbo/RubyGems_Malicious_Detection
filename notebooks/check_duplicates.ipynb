{
 "cells": [
  {
   "cell_type": "code",
   "execution_count": 5,
   "id": "1a7013d3-3d52-4285-b0dd-6b02e1618c11",
   "metadata": {},
   "outputs": [
    {
     "name": "stdout",
     "output_type": "stream",
     "text": [
      "중복된 행의 정보:\n",
      "                  name                version rubygems_version\n",
      "178     active-support   {'version': '5.2.0'}         2.6.14.1\n",
      "326     aloha_analyser   {'version': '0.6.2'}            3.0.3\n",
      "463          auto-cron  {'version': '0.1.16'}            3.0.3\n",
      "471        awesome-bot  {'version': '1.18.0'}            3.0.3\n",
      "527  blockchain_wallet   {'version': '0.0.7'}            3.0.3\n",
      "..                 ...                    ...              ...\n",
      "851          ruby_nmap   {'version': '0.9.3'}            3.0.3\n",
      "854    simple_captcha2   {'version': '0.2.3'}            2.7.3\n",
      "855           TacoBell   {'version': '0.1.0'}            3.0.3\n",
      "856          unixCrypt   {'version': '1.3.0'}            3.0.3\n",
      "857         unix_crypt   {'version': '1.3.0'}            3.0.3\n",
      "\n",
      "[68 rows x 3 columns]\n",
      "중복된 메타데이터가 ../data/metadata/raw/duplicate_metadata.csv에 저장되었습니다.\n",
      "중복 제거 전 데이터프레임 크기: (860, 30)\n",
      "중복 제거 후 데이터프레임 크기: (826, 30)\n",
      "중복 제거된 데이터가 ../data/metadata/raw/checked_metadata.csv에 저장되었습니다.\n"
     ]
    }
   ],
   "source": [
    "import pandas as pd\n",
    "\n",
    "def check_duplicates(input_path=\"../data/metadata/raw/\", \n",
    "                     input_name=\"metadata.csv\", \n",
    "                     subset_columns=['name', 'version', 'rubygems_version'], \n",
    "                     output_path=\"../data/metadata/raw/\", \n",
    "                     output_name=\"checked_metadata.csv\", \n",
    "                     duplicates_output_path=\"../data/metadata/raw/duplicate_metadata.csv\"):\n",
    "    \"\"\"\n",
    "    메타데이터 파일에서 중복된 행을 확인하고 처리한 후 결과를 저장하는 함수.\n",
    "    \n",
    "    :param input_path: 데이터 파일이 저장된 입력 경로 (기본값: \"../data/metadata/raw/\")\n",
    "    :param input_name: 입력 파일 이름 (기본값: \"metadata.csv\")\n",
    "    :param subset_columns: 중복을 확인할 열들의 리스트 (기본값: ['name', 'version', 'rubygems_version'])\n",
    "    :param output_path: 중복 제거된 데이터를 저장할 경로 (기본값: \"../data/metadata/raw/\")\n",
    "    :param output_name: 중복 제거된 데이터를 저장할 파일 이름 (기본값: \"checked_metadata.csv\")\n",
    "    :param duplicates_output_path: 중복된 데이터를 저장할 경로 (기본값: \"../data/metadata/raw/duplicate_metadata.csv\")\n",
    "    \"\"\"\n",
    "    # 데이터 읽기\n",
    "    df = pd.read_csv(input_path + input_name)\n",
    "\n",
    "    # 중복된 행을 찾아 출력 및 DataFrame으로 저장\n",
    "    duplicates = df[df.duplicated(subset=subset_columns, keep=False)]\n",
    "    if not duplicates.empty:\n",
    "        print(\"중복된 행의 정보:\")\n",
    "        print(duplicates[subset_columns])\n",
    "        \n",
    "        # 중복된 행을 별도의 파일로 저장\n",
    "        duplicates.to_csv(duplicates_output_path, index=False)\n",
    "        print(f\"중복된 메타데이터가 {duplicates_output_path}에 저장되었습니다.\")\n",
    "    else:\n",
    "        print(\"중복된 행이 없습니다.\")\n",
    "\n",
    "    # 중복된 행을 제거\n",
    "    df_checked = df.drop_duplicates(subset=subset_columns, keep='first')\n",
    "\n",
    "    # 중복 제거 전/후 행 개수 확인\n",
    "    print(f\"중복 제거 전 데이터프레임 크기: {df.shape}\")\n",
    "    print(f\"중복 제거 후 데이터프레임 크기: {df_checked.shape}\")\n",
    "\n",
    "    # 중복 제거된 데이터를 새로운 파일로 저장\n",
    "    df_checked.to_csv(output_path + output_name, index=False)\n",
    "    print(f\"중복 제거된 데이터가 {output_path + output_name}에 저장되었습니다.\")\n",
    "\n",
    "# 함수 호출 예시 (기본값으로 실행)\n",
    "check_duplicates()"
   ]
  }
 ],
 "metadata": {
  "kernelspec": {
   "display_name": "Python 3 (ipykernel)",
   "language": "python",
   "name": "python3"
  },
  "language_info": {
   "codemirror_mode": {
    "name": "ipython",
    "version": 3
   },
   "file_extension": ".py",
   "mimetype": "text/x-python",
   "name": "python",
   "nbconvert_exporter": "python",
   "pygments_lexer": "ipython3",
   "version": "3.12.4"
  }
 },
 "nbformat": 4,
 "nbformat_minor": 5
}
