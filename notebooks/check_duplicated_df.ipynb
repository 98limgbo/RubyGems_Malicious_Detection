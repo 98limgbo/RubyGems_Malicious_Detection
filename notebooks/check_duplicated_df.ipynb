{
 "cells": [
  {
   "cell_type": "code",
   "execution_count": 5,
   "id": "1a7013d3-3d52-4285-b0dd-6b02e1618c11",
   "metadata": {},
   "outputs": [
    {
     "name": "stdout",
     "output_type": "stream",
     "text": [
      "중복 제거 전 데이터프레임 크기: (860, 30)\n",
      "중복 제거 후 데이터프레임 크기: (826, 30)\n"
     ]
    }
   ],
   "source": [
    "import pandas as pd\n",
    "\n",
    "# 데이터 파일 경로 (상대 경로)\n",
    "file_path = \"../data/metadata/raw/malicious_metadata.csv\"\n",
    "\n",
    "# 데이터 읽기\n",
    "df = pd.read_csv(file_path)\n",
    "\n",
    "# 중복된 행을 제거 (name과 version이 동일한 경우)\n",
    "df_checked = df.drop_duplicates(subset=['name', 'version', 'rubygems_version'], keep='first')\n",
    "\n",
    "# 중복 제거 전 행 개수 확인 (원본 데이터프레임 df)\n",
    "print(f\"중복 제거 전 데이터프레임 크기: {df.shape}\")\n",
    "\n",
    "# 중복 제거 후 행 개수 확인\n",
    "print(f\"중복 제거 후 데이터프레임 크기: {df_checked.shape}\")\n",
    "\n",
    "# 중복 제거된 데이터를 새로운 파일로 저장\n",
    "output_path = \"../data/metadata/raw/malicious_metadata_checked.csv\"\n",
    "df_checked.to_csv(output_path, index=False)"
   ]
  }
 ],
 "metadata": {
  "kernelspec": {
   "display_name": "Python 3 (ipykernel)",
   "language": "python",
   "name": "python3"
  },
  "language_info": {
   "codemirror_mode": {
    "name": "ipython",
    "version": 3
   },
   "file_extension": ".py",
   "mimetype": "text/x-python",
   "name": "python",
   "nbconvert_exporter": "python",
   "pygments_lexer": "ipython3",
   "version": "3.12.4"
  }
 },
 "nbformat": 4,
 "nbformat_minor": 5
}
